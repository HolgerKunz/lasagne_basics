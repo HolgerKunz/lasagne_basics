{
 "cells": [
  {
   "cell_type": "markdown",
   "metadata": {},
   "source": [
    "## Import libraries"
   ]
  },
  {
   "cell_type": "code",
   "execution_count": 1,
   "metadata": {
    "collapsed": false
   },
   "outputs": [],
   "source": [
    "#For running the model:\n",
    "import lasagne\n",
    "import theano\n",
    "from theano import tensor as T\n",
    "import numpy as np\n",
    "\n",
    "#For loading the dataset:\n",
    "import os\n",
    "import gzip\n",
    "import cPickle\n",
    "import urllib"
   ]
  },
  {
   "cell_type": "markdown",
   "metadata": {},
   "source": [
    "## Define input / output shape and symbolic variables"
   ]
  },
  {
   "cell_type": "code",
   "execution_count": 2,
   "metadata": {
    "collapsed": false
   },
   "outputs": [],
   "source": [
    "data_size=(None,1,28,28) # Batch size x Img Channels x Height x Width\n",
    "output_size=10 # We will run the example in mnist - 10 digits\n",
    "\n",
    "input_var = T.tensor4('input')\n",
    "target_var = T.ivector('targets')"
   ]
  },
  {
   "cell_type": "markdown",
   "metadata": {},
   "source": [
    "##Define the model"
   ]
  },
  {
   "cell_type": "code",
   "execution_count": 18,
   "metadata": {
    "collapsed": false
   },
   "outputs": [],
   "source": [
    "net = {}\n",
    "\n",
    "#Input layer:\n",
    "net['data'] = lasagne.layers.InputLayer(data_size, input_var=input_var)\n",
    "\n",
    "#Convolution + Pooling\n",
    "net['conv1'] = lasagne.layers.Conv2DLayer(net['data'], num_filters=32, filter_size=5)\n",
    "net['pool1'] = lasagne.layers.Pool2DLayer(net['conv1'], pool_size=2)\n",
    "\n",
    "#Fully-connected + dropout\n",
    "net['fc1'] = lasagne.layers.DenseLayer(net['pool1'], num_units=100)\n",
    "net['drop1'] = lasagne.layers.DropoutLayer(net['fc1'],  p=0.5)\n",
    "\n",
    "#Output layer:\n",
    "net['out'] = lasagne.layers.DenseLayer(net['drop1'], num_units=output_size, \n",
    "                                       nonlinearity=lasagne.nonlinearities.softmax)\n",
    "\n",
    "#Note: Lasagne does not implement a class for \"Model\". Usually, you only need the output layer to:\n",
    "# 1) Obtain the result of the layer (predictions)\n",
    "# 2) Obtain a list of all parameters from the model (e.g. for weight decay)"
   ]
  },
  {
   "cell_type": "markdown",
   "metadata": {},
   "source": [
    "##Define the cost function and update rule"
   ]
  },
  {
   "cell_type": "code",
   "execution_count": 19,
   "metadata": {
    "collapsed": false
   },
   "outputs": [],
   "source": [
    "#Define hyperparameters. These could also be symbolic variables \n",
    "lr = 1e-2\n",
    "weight_decay = 1e-5\n",
    "\n",
    "\n",
    "#Loss function: mean cross-entropy\n",
    "prediction = lasagne.layers.get_output(net['out'])\n",
    "loss = lasagne.objectives.categorical_crossentropy(prediction, target_var)\n",
    "loss = loss.mean()\n",
    "\n",
    "#Also add weight decay to the cost function\n",
    "weightsl2 = lasagne.regularization.regularize_network_params(net['out'], lasagne.regularization.l2)\n",
    "loss += weight_decay * weightsl2\n",
    "\n",
    "#Get the update rule for Stochastic Gradient Descent with Nesterov Momentum\n",
    "params = lasagne.layers.get_all_params(net['out'], trainable=True)\n",
    "updates = lasagne.updates.nesterov_momentum(\n",
    "        loss, params, learning_rate=lr, momentum=0.9)\n",
    "\n"
   ]
  },
  {
   "cell_type": "markdown",
   "metadata": {},
   "source": [
    "##Compile the training and test functions"
   ]
  },
  {
   "cell_type": "code",
   "execution_count": 20,
   "metadata": {
    "collapsed": false
   },
   "outputs": [],
   "source": [
    "test_prediction = lasagne.layers.get_output(net['out'], deterministic=True)\n",
    "test_loss = lasagne.objectives.categorical_crossentropy(test_prediction,\n",
    "                                                        target_var)\n",
    "test_loss = test_loss.mean()\n",
    "test_acc = T.mean(T.eq(T.argmax(test_prediction, axis=1), target_var),\n",
    "                  dtype=theano.config.floatX)\n",
    "\n",
    "#Note that train_fn has a \"updates\" rule. Whenever we call this function, it updates the parameters of the model.\n",
    "train_fn = theano.function([input_var, target_var], loss, updates=updates, name='train')\n",
    "val_fn = theano.function([input_var, target_var], [test_loss, test_acc], name='validation')\n",
    "get_preds = theano.function([input_var], test_prediction, name='get_preds')\n"
   ]
  },
  {
   "cell_type": "markdown",
   "metadata": {},
   "source": [
    "## Obtain dataset (MNIST)"
   ]
  },
  {
   "cell_type": "code",
   "execution_count": 21,
   "metadata": {
    "collapsed": false
   },
   "outputs": [],
   "source": [
    "dataset_file = 'mnist.pkl.gz'\n",
    "\n",
    "#Download dataset if not yet done:\n",
    "if not os.path.isfile(dataset_file):\n",
    "    urllib.urlretrieve('http://www.iro.umontreal.ca/~lisa/deep/data/mnist/mnist.pkl.gz', dataset_file)\n",
    "\n",
    "#Load the dataset\n",
    "f = gzip.open(dataset_file, 'rb')\n",
    "train_set, valid_set, test_set = cPickle.load(f)\n",
    "f.close()\n",
    "\n",
    "#Convert the dataset to the shape we want\n",
    "x_train, y_train = train_set\n",
    "x_test, y_test = test_set\n",
    "\n",
    "x_train = x_train.reshape(-1, 1, 28, 28)\n",
    "x_test = x_test.reshape(-1, 1, 28, 28)\n",
    "y_train = y_train.astype(np.int32)\n",
    "y_test = y_test.astype(np.int32)"
   ]
  },
  {
   "cell_type": "markdown",
   "metadata": {},
   "source": [
    "## Train the model"
   ]
  },
  {
   "cell_type": "code",
   "execution_count": null,
   "metadata": {
    "collapsed": false
   },
   "outputs": [],
   "source": [
    "epochs = 10\n",
    "batch_size=100\n",
    "\n",
    "#Run the training function per mini-batches\n",
    "n_examples = x_train.shape[0]\n",
    "n_batches = n_examples / batch_size\n",
    "\n",
    "cost_history = []\n",
    "for epoch in xrange(epochs):\n",
    "    batch_cost_history = []\n",
    "    for batch in xrange(n_batches):\n",
    "        x_batch = x_train[batch*batch_size: (batch+1) * batch_size]\n",
    "        y_batch = y_train[batch*batch_size: (batch+1) * batch_size]\n",
    "        \n",
    "        this_cost = train_fn(x_batch, y_batch) # This is where the model gets updated\n",
    "        \n",
    "        batch_cost_history.append(this_cost)\n",
    "    epoch_cost = np.mean(batch_cost_history)\n",
    "    cost_history.append(epoch_cost)\n",
    "    print('Epoch %d/%d, train error: %f' % (epoch+1, epochs, epoch_cost))"
   ]
  },
  {
   "cell_type": "code",
   "execution_count": null,
   "metadata": {
    "collapsed": false
   },
   "outputs": [],
   "source": [
    "#Plot the cost history\n",
    "\n",
    "import matplotlib.pyplot as plt\n",
    "%matplotlib inline\n",
    "\n",
    "plt.plot(cost_history)"
   ]
  },
  {
   "cell_type": "markdown",
   "metadata": {},
   "source": [
    "## Test the model"
   ]
  },
  {
   "cell_type": "code",
   "execution_count": 9,
   "metadata": {
    "collapsed": false
   },
   "outputs": [
    {
     "name": "stdout",
     "output_type": "stream",
     "text": [
      "Test error: 0.013100\n"
     ]
    }
   ],
   "source": [
    "loss, acc = val_fn(x_test, y_test)\n",
    "test_error = 1 - acc\n",
    "print('Test error: %f' % test_error)"
   ]
  },
  {
   "cell_type": "markdown",
   "metadata": {},
   "source": [
    "## Visualize some predictions"
   ]
  },
  {
   "cell_type": "code",
   "execution_count": 10,
   "metadata": {
    "collapsed": true
   },
   "outputs": [],
   "source": [
    "def PlotPredictions(test_samples, predictedLabels):\n",
    "    plt.figure(figsize=(8,10))\n",
    "    f, axarr = plt.subplots(2,5)\n",
    "    for i in range(2):\n",
    "        for j in range(5):\n",
    "            index = i*5+j\n",
    "            axarr[i,j].imshow(test_samples[index].reshape(28,28), cmap='Greys_r', interpolation='nearest')\n",
    "            axarr[i,j].axis('off')\n",
    "            axarr[i,j].set_title('%d' % predictedLabels[index])"
   ]
  },
  {
   "cell_type": "code",
   "execution_count": 11,
   "metadata": {
    "collapsed": false
   },
   "outputs": [
    {
     "name": "stdout",
     "output_type": "stream",
     "text": [
      "Random examples\n"
     ]
    },
    {
     "data": {
      "text/plain": [
       "<matplotlib.figure.Figure at 0x7ff428280d50>"
      ]
     },
     "metadata": {},
     "output_type": "display_data"
    },
    {
     "data": {
      "image/png": "[encoded data removed]",
      "text/plain": [
       "<matplotlib.figure.Figure at 0x7ff439e91c90>"
      ]
     },
     "metadata": {},
     "output_type": "display_data"
    }
   ],
   "source": [
    "predictedLabels = get_preds(x_test).argmax(axis=1)\n",
    "\n",
    "indices = np.random.choice(y_test.shape[0], replace=False, size=10)\n",
    "\n",
    "PlotPredictions( x_test[indices], predictedLabels[indices])\n",
    "print \"Random examples\"\n"
   ]
  },
  {
   "cell_type": "code",
   "execution_count": 12,
   "metadata": {
    "collapsed": false
   },
   "outputs": [
    {
     "name": "stdout",
     "output_type": "stream",
     "text": [
      "Incorrect predictions\n"
     ]
    },
    {
     "data": {
      "text/plain": [
       "<matplotlib.figure.Figure at 0x7ff4282c73d0>"
      ]
     },
     "metadata": {},
     "output_type": "display_data"
    },
    {
     "data": {
      "image/png": "[encoded data removed]",
      "text/plain": [
       "<matplotlib.figure.Figure at 0x7ff427c4a2d0>"
      ]
     },
     "metadata": {},
     "output_type": "display_data"
    }
   ],
   "source": [
    "incorrectPreds = np.where(predictedLabels != y_test)\n",
    "someIncorrectPreds = incorrectPreds[0:10]\n",
    "\n",
    "PlotPredictions(x_test[someIncorrectPreds], predictedLabels[someIncorrectPreds])\n",
    "print \"Incorrect predictions\""
   ]
  },
  {
   "cell_type": "markdown",
   "metadata": {},
   "source": [
    "## Visualize the weights"
   ]
  },
  {
   "cell_type": "code",
   "execution_count": 13,
   "metadata": {
    "collapsed": false
   },
   "outputs": [
    {
     "data": {
      "text/plain": [
       "<matplotlib.figure.Figure at 0x7ff42820d190>"
      ]
     },
     "metadata": {},
     "output_type": "display_data"
    },
    {
     "data": {
      "image/png": "[encoded data removed]",
      "text/plain": [
       "<matplotlib.figure.Figure at 0x7ff42811c550>"
      ]
     },
     "metadata": {},
     "output_type": "display_data"
    }
   ],
   "source": [
    "weights = conv1.W.get_value()\n",
    "\n",
    "plt.figure(figsize=(8,10))\n",
    "f, axarr = plt.subplots(4,8)\n",
    "for i in range(4):\n",
    "    for j in range(8):\n",
    "        index = i*8+j\n",
    "        axarr[i,j].imshow(weights[index].reshape(5,5), cmap='Greys_r', interpolation='nearest')\n",
    "        axarr[i,j].axis('off')"
   ]
  },
  {
   "cell_type": "markdown",
   "metadata": {},
   "source": [
    "## Other things you can easily do\n",
    "\n",
    "* Add things to the cost function. Just add something to the \"loss\" variable that is used for defining the updates. Theano will take care of calculating the derivates with respect to the inputs\n",
    "* Obtaining the representation from intermediate layers:\n",
    "\n",
    ">output_at_layer_fc1 = lasagne.layers.get_output(fc1)\n",
    "\n",
    ">get_representation = theano.function([input_var], output_at_layer_fc1)\n",
    "\n",
    "\n",
    "* Augmenting the input - easy to do since you have direct control of what is being fed to the training function\n",
    "* Using any type of learning rate schedule - you can define the learning rate as a theano shared variable, and set its value at any time in the computation (e.g. multiple by a value after each epoch, etc).\n",
    "* Use it for fine-tuning. By default the weights are initialized for you, but you can use pre-trained weights if you have them:\n",
    "> conv1 = lasagne.layers.Conv2DLayer(data, num_filters=32, filter_size=5, **W=pretrainedW, b=pretrainedB**)\n",
    "\n"
   ]
  }
 ],
 "metadata": {
  "kernelspec": {
   "display_name": "Python 2",
   "language": "python",
   "name": "python2"
  },
  "language_info": {
   "codemirror_mode": {
    "name": "ipython",
    "version": 2
   },
   "file_extension": ".py",
   "mimetype": "text/x-python",
   "name": "python",
   "nbconvert_exporter": "python",
   "pygments_lexer": "ipython2",
   "version": "2.7.10"
  }
 },
 "nbformat": 4,
 "nbformat_minor": 0
}
