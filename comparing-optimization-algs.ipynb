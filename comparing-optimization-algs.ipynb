{
 "cells": [
  {
   "cell_type": "markdown",
   "metadata": {},
   "source": [
    "#Comparing opitimization algorithms\n",
    "\n",
    "In this workbook we try out different optimization algorithms using the lasagne library. It is interesting to see that changing to another optimization algorithm requires changing a single line of code."
   ]
  },
  {
   "cell_type": "markdown",
   "metadata": {},
   "source": [
    "## Import libraries"
   ]
  },
  {
   "cell_type": "code",
   "execution_count": 16,
   "metadata": {
    "collapsed": false
   },
   "outputs": [],
   "source": [
    "#For running the model:\n",
    "import lasagne\n",
    "import theano\n",
    "from theano import tensor as T\n",
    "import numpy as np\n",
    "\n",
    "#For loading the dataset:\n",
    "import os\n",
    "import gzip\n",
    "import cPickle\n",
    "import urllib"
   ]
  },
  {
   "cell_type": "markdown",
   "metadata": {},
   "source": [
    "##Define the model"
   ]
  },
  {
   "cell_type": "code",
   "execution_count": 17,
   "metadata": {
    "collapsed": false
   },
   "outputs": [],
   "source": [
    "data_size=(None,1,28,28) # Batch size x Img Channels x Height x Width\n",
    "output_size=10 # We will run the example in mnist - 10 digits\n",
    "    \n",
    "def build_model(optimizer):\n",
    "    \"\"\"Builds the model, loss function and optimization functions.\n",
    "    The param optimizer sould be in [\"sgd\", \"adam\", \"rmsprop\"]  \"\"\"\n",
    "    \n",
    "    input_var = T.tensor4('input')\n",
    "    target_var = T.ivector('targets')\n",
    "    net = {}\n",
    "\n",
    "    #Input layer:\n",
    "    net['data'] = lasagne.layers.InputLayer(data_size, input_var=input_var)\n",
    "\n",
    "    #Convolution + Pooling\n",
    "    net['conv1'] = lasagne.layers.Conv2DLayer(net['data'], num_filters=6, filter_size=5)\n",
    "    net['pool1'] = lasagne.layers.Pool2DLayer(net['conv1'], pool_size=2)\n",
    "\n",
    "    net['conv2'] = lasagne.layers.Conv2DLayer(net['pool1'], num_filters=10, filter_size=5)\n",
    "    net['pool2'] = lasagne.layers.Pool2DLayer(net['conv2'], pool_size=2)\n",
    "\n",
    "\n",
    "    #Fully-connected + dropout\n",
    "    net['fc1'] = lasagne.layers.DenseLayer(net['pool2'], num_units=100)\n",
    "    net['drop1'] = lasagne.layers.DropoutLayer(net['fc1'],  p=0.5)\n",
    "\n",
    "    #Output layer:\n",
    "    net['out'] = lasagne.layers.DenseLayer(net['drop1'], num_units=output_size, \n",
    "                                           nonlinearity=lasagne.nonlinearities.softmax)\n",
    "\n",
    "    weight_decay = 1e-5\n",
    "\n",
    "    #Loss function: mean cross-entropy\n",
    "    prediction = lasagne.layers.get_output(net['out'])\n",
    "    loss = lasagne.objectives.categorical_crossentropy(prediction, target_var)\n",
    "    loss = loss.mean()\n",
    "\n",
    "    #Also add weight decay to the cost function\n",
    "    weightsl2 = lasagne.regularization.regularize_network_params(net['out'], lasagne.regularization.l2)\n",
    "    loss += weight_decay * weightsl2\n",
    "\n",
    "    #Get the update rule\n",
    "    params = lasagne.layers.get_all_params(net['out'], trainable=True)\n",
    "    if (optimizer == 'sgd'):\n",
    "        updates = lasagne.updates.sgd(\n",
    "            loss, params, learning_rate=1e-2)\n",
    "    elif (optimizer == 'adam'):\n",
    "        updates = lasagne.updates.adam(loss, params)\n",
    "    elif (optimizer == 'rmsprop'):\n",
    "        updates = lasagne.updates.rmsprop(loss, params, learning_rate=1e-2)\n",
    "\n",
    "    test_prediction = lasagne.layers.get_output(net['out'], deterministic=True)\n",
    "    test_loss = lasagne.objectives.categorical_crossentropy(test_prediction,\n",
    "                                                            target_var)\n",
    "    test_loss = test_loss.mean()\n",
    "    test_acc = T.mean(T.eq(T.argmax(test_prediction, axis=1), target_var),\n",
    "                      dtype=theano.config.floatX)\n",
    "\n",
    "    train_fn = theano.function([input_var, target_var], loss, updates=updates, name='train')\n",
    "    val_fn = theano.function([input_var, target_var], [test_loss, test_acc], name='validation')\n",
    "    get_preds = theano.function([input_var], test_prediction, name='get_preds')\n",
    "\n",
    "    return (train_fn, val_fn, get_preds)"
   ]
  },
  {
   "cell_type": "markdown",
   "metadata": {},
   "source": [
    "## Obtain dataset (MNIST)"
   ]
  },
  {
   "cell_type": "code",
   "execution_count": 18,
   "metadata": {
    "collapsed": false
   },
   "outputs": [],
   "source": [
    "dataset_file = 'mnist.pkl.gz'\n",
    "\n",
    "#Download dataset if not yet done:\n",
    "if not os.path.isfile(dataset_file):\n",
    "    urllib.urlretrieve('http://www.iro.umontreal.ca/~lisa/deep/data/mnist/mnist.pkl.gz', dataset_file)\n",
    "\n",
    "#Load the dataset\n",
    "f = gzip.open(dataset_file, 'rb')\n",
    "train_set, valid_set, test_set = cPickle.load(f)\n",
    "f.close()\n",
    "\n",
    "#Convert the dataset to the shape we want\n",
    "x_train, y_train = train_set\n",
    "x_test, y_test = test_set\n",
    "\n",
    "x_train = x_train.reshape(-1, 1, 28, 28)\n",
    "x_test = x_test.reshape(-1, 1, 28, 28)\n",
    "y_train = y_train.astype(np.int32)\n",
    "y_test = y_test.astype(np.int32)"
   ]
  },
  {
   "cell_type": "markdown",
   "metadata": {},
   "source": [
    "## Define the training function"
   ]
  },
  {
   "cell_type": "code",
   "execution_count": 19,
   "metadata": {
    "collapsed": false
   },
   "outputs": [],
   "source": [
    "import time\n",
    "epochs = 10\n",
    "batch_size=100\n",
    "\n",
    "#Run the training function per mini-batches\n",
    "n_examples = x_train.shape[0]\n",
    "n_batches = n_examples / batch_size\n",
    "\n",
    "def train(train_fn):\n",
    "    cost_history = []\n",
    "    for epoch in xrange(epochs):\n",
    "        st = time.time()\n",
    "        batch_cost_history = []\n",
    "        for batch in xrange(n_batches):\n",
    "            x_batch = x_train[batch*batch_size: (batch+1) * batch_size]\n",
    "            y_batch = y_train[batch*batch_size: (batch+1) * batch_size]\n",
    "\n",
    "            this_cost = train_fn(x_batch, y_batch) # This is where the model gets updated\n",
    "\n",
    "            batch_cost_history.append(this_cost)\n",
    "        epoch_cost = np.mean(batch_cost_history)\n",
    "        cost_history.append(epoch_cost)\n",
    "        en = time.time()\n",
    "        print('Epoch %d/%d, train error: %f. Elapsed time: %.2f seconds' % (epoch+1, epochs, epoch_cost, en-st))\n",
    "    return cost_history"
   ]
  },
  {
   "cell_type": "markdown",
   "metadata": {},
   "source": [
    "##Building one model for each algorithm we want to test"
   ]
  },
  {
   "cell_type": "code",
   "execution_count": 20,
   "metadata": {
    "collapsed": true
   },
   "outputs": [],
   "source": [
    "sgd_functions = build_model('sgd')\n",
    "rmsprop_functions = build_model('rmsprop')\n",
    "adam_functions = build_model('adam')"
   ]
  },
  {
   "cell_type": "code",
   "execution_count": 21,
   "metadata": {
    "collapsed": false
   },
   "outputs": [
    {
     "name": "stdout",
     "output_type": "stream",
     "text": [
      "Training with SGD\n",
      "Epoch 1/10, train error: 1.574994. Elapsed time: 10.27 seconds\n",
      "Epoch 2/10, train error: 0.599006. Elapsed time: 10.21 seconds\n",
      "Epoch 3/10, train error: 0.439831. Elapsed time: 10.04 seconds\n",
      "Epoch 4/10, train error: 0.362014. Elapsed time: 10.11 seconds\n",
      "Epoch 5/10, train error: 0.320680. Elapsed time: 10.16 seconds\n",
      "Epoch 6/10, train error: 0.289554. Elapsed time: 10.07 seconds\n",
      "Epoch 7/10, train error: 0.267872. Elapsed time: 10.18 seconds\n",
      "Epoch 8/10, train error: 0.248920. Elapsed time: 10.29 seconds\n",
      "Epoch 9/10, train error: 0.234415. Elapsed time: 10.14 seconds\n",
      "Epoch 10/10, train error: 0.217461. Elapsed time: 10.11 seconds\n",
      "Training with RMSPROP\n",
      "Epoch 1/10, train error: 0.263991. Elapsed time: 10.43 seconds\n",
      "Epoch 2/10, train error: 0.134813. Elapsed time: 10.67 seconds\n",
      "Epoch 3/10, train error: 0.123282. Elapsed time: 10.57 seconds\n",
      "Epoch 4/10, train error: 0.118987. Elapsed time: 10.51 seconds\n",
      "Epoch 5/10, train error: 0.116417. Elapsed time: 10.47 seconds\n",
      "Epoch 6/10, train error: 0.111861. Elapsed time: 10.51 seconds\n",
      "Epoch 7/10, train error: 0.115016. Elapsed time: 10.47 seconds\n",
      "Epoch 8/10, train error: 0.112098. Elapsed time: 10.59 seconds\n",
      "Epoch 9/10, train error: 0.113197. Elapsed time: 10.41 seconds\n",
      "Epoch 10/10, train error: 0.114031. Elapsed time: 10.34 seconds\n",
      "Training with ADAM\n",
      "Epoch 1/10, train error: 0.595085. Elapsed time: 10.41 seconds\n",
      "Epoch 2/10, train error: 0.208096. Elapsed time: 10.45 seconds\n",
      "Epoch 3/10, train error: 0.157936. Elapsed time: 10.29 seconds\n",
      "Epoch 4/10, train error: 0.132543. Elapsed time: 10.37 seconds\n",
      "Epoch 5/10, train error: 0.114100. Elapsed time: 10.35 seconds\n",
      "Epoch 6/10, train error: 0.100773. Elapsed time: 10.55 seconds\n",
      "Epoch 7/10, train error: 0.093930. Elapsed time: 10.22 seconds\n",
      "Epoch 8/10, train error: 0.086505. Elapsed time: 10.27 seconds\n",
      "Epoch 9/10, train error: 0.080400. Elapsed time: 10.28 seconds\n",
      "Epoch 10/10, train error: 0.073836. Elapsed time: 10.36 seconds\n"
     ]
    }
   ],
   "source": [
    "print (\"Training with SGD\")\n",
    "sgd_cost_history = train(sgd_functions[0])\n",
    "print (\"Training with RMSPROP\")\n",
    "rmsprop_cost_history = train(rmsprop_functions[0])\n",
    "print (\"Training with ADAM\")\n",
    "adam_cost_history = train(adam_functions[0])"
   ]
  },
  {
   "cell_type": "code",
   "execution_count": 22,
   "metadata": {
    "collapsed": false
   },
   "outputs": [
    {
     "data": {
      "image/png": "[encoded data removed]",
      "text/plain": [
       "<matplotlib.figure.Figure at 0x7fdceedd9150>"
      ]
     },
     "metadata": {},
     "output_type": "display_data"
    }
   ],
   "source": [
    "#Plot the cost history\n",
    "\n",
    "import matplotlib.pyplot as plt\n",
    "%matplotlib inline\n",
    "\n",
    "plt.figure(figsize=(7,5))\n",
    "x = range(1,11)\n",
    "plt.plot(x, sgd_cost_history, 'b-^')\n",
    "plt.plot(x, rmsprop_cost_history, 'g-*')\n",
    "plt.plot(x, adam_cost_history, 'r-d')\n",
    "\n",
    "plt.xlabel('Epoch')\n",
    "plt.ylabel('Training loss')\n",
    "plt.legend(['SGD','RMSProp','ADAM'])\n",
    "plt.savefig('training_loss.png')"
   ]
  },
  {
   "cell_type": "markdown",
   "metadata": {},
   "source": [
    "## Test the models"
   ]
  },
  {
   "cell_type": "code",
   "execution_count": 23,
   "metadata": {
    "collapsed": false
   },
   "outputs": [],
   "source": [
    "def get_error(val_fn):\n",
    "    loss, acc = val_fn(x_test, y_test)\n",
    "    test_error = 1 - acc\n",
    "    return test_error"
   ]
  },
  {
   "cell_type": "code",
   "execution_count": 24,
   "metadata": {
    "collapsed": false
   },
   "outputs": [
    {
     "name": "stdout",
     "output_type": "stream",
     "text": [
      "Model trained with SGD. Test error: 0.031500\n",
      "Model trained with RMSProp. Test error: 0.018300\n",
      "Model trained with ADAM. Test error: 0.013900\n"
     ]
    }
   ],
   "source": [
    "print \"Model trained with SGD. Test error: %f\" % get_error(sgd_functions[1])\n",
    "print \"Model trained with RMSProp. Test error: %f\" % get_error(rmsprop_functions[1])\n",
    "print \"Model trained with ADAM. Test error: %f\" % get_error(adam_functions[1])"
   ]
  }
 ],
 "metadata": {
  "kernelspec": {
   "display_name": "Python 2",
   "language": "python",
   "name": "python2"
  },
  "language_info": {
   "codemirror_mode": {
    "name": "ipython",
    "version": 2
   },
   "file_extension": ".py",
   "mimetype": "text/x-python",
   "name": "python",
   "nbconvert_exporter": "python",
   "pygments_lexer": "ipython2",
   "version": "2.7.10"
  }
 },
 "nbformat": 4,
 "nbformat_minor": 0
}
